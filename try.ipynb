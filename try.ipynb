{
 "cells": [
  {
   "cell_type": "code",
   "execution_count": 71,
   "id": "366fb43c-51a7-4f66-a52c-95e440df1f1f",
   "metadata": {},
   "outputs": [
    {
     "ename": "ImportError",
     "evalue": "cannot import name 'OneToOneFeatureMixin' from 'sklearn.base' (c:\\Users\\santapaw\\AppData\\Local\\Programs\\Python\\Python310\\lib\\site-packages\\sklearn\\base.py)",
     "output_type": "error",
     "traceback": [
      "\u001b[1;31m---------------------------------------------------------------------------\u001b[0m",
      "\u001b[1;31mImportError\u001b[0m                               Traceback (most recent call last)",
      "\u001b[1;32mc:\\Users\\santapaw\\Documents\\vut\\dp\\project\\try.ipynb Cell 1\u001b[0m in \u001b[0;36m<cell line: 9>\u001b[1;34m()\u001b[0m\n\u001b[0;32m      <a href='vscode-notebook-cell:/c%3A/Users/santapaw/Documents/vut/dp/project/try.ipynb#W0sZmlsZQ%3D%3D?line=6'>7</a>\u001b[0m \u001b[39mimport\u001b[39;00m \u001b[39mos\u001b[39;00m\n\u001b[0;32m      <a href='vscode-notebook-cell:/c%3A/Users/santapaw/Documents/vut/dp/project/try.ipynb#W0sZmlsZQ%3D%3D?line=7'>8</a>\u001b[0m \u001b[39mimport\u001b[39;00m \u001b[39mpymatreader\u001b[39;00m\n\u001b[1;32m----> <a href='vscode-notebook-cell:/c%3A/Users/santapaw/Documents/vut/dp/project/try.ipynb#W0sZmlsZQ%3D%3D?line=8'>9</a>\u001b[0m \u001b[39mimport\u001b[39;00m \u001b[39msklearn\u001b[39;00m\u001b[39m.\u001b[39;00m\u001b[39mpreprocessing\u001b[39;00m \u001b[39mas\u001b[39;00m \u001b[39mp\u001b[39;00m\n\u001b[0;32m     <a href='vscode-notebook-cell:/c%3A/Users/santapaw/Documents/vut/dp/project/try.ipynb#W0sZmlsZQ%3D%3D?line=10'>11</a>\u001b[0m mpld3\u001b[39m.\u001b[39menable_notebook()\n",
      "File \u001b[1;32mc:\\Users\\santapaw\\AppData\\Local\\Programs\\Python\\Python310\\lib\\site-packages\\sklearn\\preprocessing\\__init__.py:8\u001b[0m, in \u001b[0;36m<module>\u001b[1;34m\u001b[0m\n\u001b[0;32m      1\u001b[0m \u001b[39m\"\"\"\u001b[39;00m\n\u001b[0;32m      2\u001b[0m \u001b[39mThe :mod:`sklearn.preprocessing` module includes scaling, centering,\u001b[39;00m\n\u001b[0;32m      3\u001b[0m \u001b[39mnormalization, binarization methods.\u001b[39;00m\n\u001b[0;32m      4\u001b[0m \u001b[39m\"\"\"\u001b[39;00m\n\u001b[0;32m      6\u001b[0m \u001b[39mfrom\u001b[39;00m \u001b[39m.\u001b[39;00m\u001b[39m_function_transformer\u001b[39;00m \u001b[39mimport\u001b[39;00m FunctionTransformer\n\u001b[1;32m----> 8\u001b[0m \u001b[39mfrom\u001b[39;00m \u001b[39m.\u001b[39;00m\u001b[39m_data\u001b[39;00m \u001b[39mimport\u001b[39;00m Binarizer\n\u001b[0;32m      9\u001b[0m \u001b[39mfrom\u001b[39;00m \u001b[39m.\u001b[39;00m\u001b[39m_data\u001b[39;00m \u001b[39mimport\u001b[39;00m KernelCenterer\n\u001b[0;32m     10\u001b[0m \u001b[39mfrom\u001b[39;00m \u001b[39m.\u001b[39;00m\u001b[39m_data\u001b[39;00m \u001b[39mimport\u001b[39;00m MinMaxScaler\n",
      "File \u001b[1;32mc:\\Users\\santapaw\\AppData\\Local\\Programs\\Python\\Python310\\lib\\site-packages\\sklearn\\preprocessing\\_data.py:20\u001b[0m, in \u001b[0;36m<module>\u001b[1;34m\u001b[0m\n\u001b[0;32m     17\u001b[0m \u001b[39mfrom\u001b[39;00m \u001b[39mscipy\u001b[39;00m \u001b[39mimport\u001b[39;00m optimize\n\u001b[0;32m     18\u001b[0m \u001b[39mfrom\u001b[39;00m \u001b[39mscipy\u001b[39;00m\u001b[39m.\u001b[39;00m\u001b[39mspecial\u001b[39;00m \u001b[39mimport\u001b[39;00m boxcox\n\u001b[1;32m---> 20\u001b[0m \u001b[39mfrom\u001b[39;00m \u001b[39m.\u001b[39;00m\u001b[39m.\u001b[39;00m\u001b[39mbase\u001b[39;00m \u001b[39mimport\u001b[39;00m (\n\u001b[0;32m     21\u001b[0m     BaseEstimator,\n\u001b[0;32m     22\u001b[0m     TransformerMixin,\n\u001b[0;32m     23\u001b[0m     OneToOneFeatureMixin,\n\u001b[0;32m     24\u001b[0m     ClassNamePrefixFeaturesOutMixin,\n\u001b[0;32m     25\u001b[0m )\n\u001b[0;32m     26\u001b[0m \u001b[39mfrom\u001b[39;00m \u001b[39m.\u001b[39;00m\u001b[39m.\u001b[39;00m\u001b[39mutils\u001b[39;00m \u001b[39mimport\u001b[39;00m check_array\n\u001b[0;32m     27\u001b[0m \u001b[39mfrom\u001b[39;00m \u001b[39m.\u001b[39;00m\u001b[39m.\u001b[39;00m\u001b[39mutils\u001b[39;00m\u001b[39m.\u001b[39;00m\u001b[39m_param_validation\u001b[39;00m \u001b[39mimport\u001b[39;00m Interval, StrOptions\n",
      "\u001b[1;31mImportError\u001b[0m: cannot import name 'OneToOneFeatureMixin' from 'sklearn.base' (c:\\Users\\santapaw\\AppData\\Local\\Programs\\Python\\Python310\\lib\\site-packages\\sklearn\\base.py)"
     ]
    }
   ],
   "source": [
    "import pandas as pd\n",
    "import scipy.io\n",
    "import mpld3\n",
    "import matplotlib.pyplot as plt\n",
    "import seaborn as sns\n",
    "import numpy as np\n",
    "import os\n",
    "import pymatreader\n",
    "from sklearn import preprocessing as p\n",
    "\n",
    "mpld3.enable_notebook()"
   ]
  },
  {
   "cell_type": "code",
   "execution_count": 70,
   "id": "cada7196",
   "metadata": {},
   "outputs": [
    {
     "ename": "NameError",
     "evalue": "name 'p' is not defined",
     "output_type": "error",
     "traceback": [
      "\u001b[1;31m---------------------------------------------------------------------------\u001b[0m",
      "\u001b[1;31mNameError\u001b[0m                                 Traceback (most recent call last)",
      "\u001b[1;32mc:\\Users\\santapaw\\Documents\\vut\\dp\\project\\try.ipynb Cell 2\u001b[0m in \u001b[0;36m<cell line: 3>\u001b[1;34m()\u001b[0m\n\u001b[0;32m      <a href='vscode-notebook-cell:/c%3A/Users/santapaw/Documents/vut/dp/project/try.ipynb#X20sZmlsZQ%3D%3D?line=0'>1</a>\u001b[0m x \u001b[39m=\u001b[39m [\u001b[39m1\u001b[39m,\u001b[39m2\u001b[39m,\u001b[39m3\u001b[39m,\u001b[39m4\u001b[39m]\n\u001b[1;32m----> <a href='vscode-notebook-cell:/c%3A/Users/santapaw/Documents/vut/dp/project/try.ipynb#X20sZmlsZQ%3D%3D?line=2'>3</a>\u001b[0m \u001b[39mprint\u001b[39m(p\u001b[39m.\u001b[39mnormalize(x))\n",
      "\u001b[1;31mNameError\u001b[0m: name 'p' is not defined"
     ]
    }
   ],
   "source": [
    "x = [1,2,3,4]\n",
    "\n",
    "print(p.normalize(x))"
   ]
  },
  {
   "cell_type": "code",
   "execution_count": 2,
   "id": "594255c2",
   "metadata": {},
   "outputs": [],
   "source": [
    "def preprocessing(x):\n",
    "    \n",
    "    def get_condition(x):\n",
    "        x_mean = np.mean(x)\n",
    "        x_min = np.min(x)\n",
    "        return np.mean([x_min, x_min])\n",
    "    \n",
    "    def find_first_seq(x):\n",
    "        pos = 0\n",
    "        condition = get_condition(x)\n",
    "        for i in range(len(x)-1):\n",
    "            if abs(x[i] - x[i+1]) >= np.mean(x[:i]):\n",
    "                break\n",
    "            else: \n",
    "                pos += 1\n",
    "        return np.mean(x[:pos]), pos\n",
    "    \n",
    "    def preprocess(x):\n",
    "        dev, c = find_first_seq(x)\n",
    "        for i in range(len(x)):\n",
    "            x[i] -= dev\n",
    "        return x\n",
    "    \n",
    "    def remove_negative_values(x):\n",
    "        for i in range(len(x)):\n",
    "            if x[i] < 0:\n",
    "                x[i] = 0\n",
    "        return x\n",
    "    \n",
    "    def filter_first_seq(x):\n",
    "        \"\"\n",
    "    \n",
    "    return remove_negative_values(preprocess(x))\n",
    "\n",
    "\n",
    "def interpolate(x):\n",
    "    y = np.cos(-x**2/9.0)\n",
    "    return scipy.interpolate.interp1d(x, range(len(x)), kind='cubic')"
   ]
  },
  {
   "cell_type": "code",
   "execution_count": 46,
   "id": "630f529b",
   "metadata": {},
   "outputs": [],
   "source": [
    "def load_file(name) -> dict:\n",
    "    data_path = os.getcwd() + '\\data'\n",
    "    data_f = {}\n",
    "    data = pymatreader.read_mat(data_path + \"\\\\\" + name)\n",
    "    signal = data['tissue'][0]\n",
    "    T_s = data['info']['acq'][\"Ts\"]\n",
    "    return {'signal' : data['tissue'][0], 'time' : np.linspace(0, 0+(T_s*len(signal)),len(signal),endpoint=False), 'ts' : T_s}"
   ]
  },
  {
   "cell_type": "code",
   "execution_count": 47,
   "id": "75a383ed",
   "metadata": {},
   "outputs": [],
   "source": [
    "def load_data() -> dict:\n",
    "    data_path = os.getcwd() + '\\data'\n",
    "    data = {}\n",
    "    for file in os.listdir(data_path):\n",
    "        if \".mat\" in file:\n",
    "            data[file.replace('.mat','')] = load_file(file)\n",
    "    return data"
   ]
  },
  {
   "cell_type": "code",
   "execution_count": 52,
   "id": "6ad920e7",
   "metadata": {},
   "outputs": [],
   "source": [
    "data = load_data()"
   ]
  },
  {
   "cell_type": "code",
   "execution_count": 50,
   "id": "f00c5740",
   "metadata": {},
   "outputs": [
    {
     "ename": "KeyError",
     "evalue": "'info'",
     "output_type": "error",
     "traceback": [
      "\u001b[1;31m---------------------------------------------------------------------------\u001b[0m",
      "\u001b[1;31mKeyError\u001b[0m                                  Traceback (most recent call last)",
      "\u001b[1;32mc:\\Users\\santapaw\\Documents\\vut\\dp\\project\\try.ipynb Cell 6\u001b[0m in \u001b[0;36m<cell line: 1>\u001b[1;34m()\u001b[0m\n\u001b[1;32m----> <a href='vscode-notebook-cell:/c%3A/Users/santapaw/Documents/vut/dp/project/try.ipynb#X12sZmlsZQ%3D%3D?line=0'>1</a>\u001b[0m \u001b[39mprint\u001b[39m(load_data()[\u001b[39m'\u001b[39;49m\u001b[39minfo\u001b[39;49m\u001b[39m'\u001b[39;49m][\u001b[39m'\u001b[39m\u001b[39macq\u001b[39m\u001b[39m'\u001b[39m][\u001b[39m\"\u001b[39m\u001b[39mTs\u001b[39m\u001b[39m\"\u001b[39m])\n\u001b[0;32m      <a href='vscode-notebook-cell:/c%3A/Users/santapaw/Documents/vut/dp/project/try.ipynb#X12sZmlsZQ%3D%3D?line=1'>2</a>\u001b[0m \u001b[39mprint\u001b[39m(load_data()[\u001b[39m'\u001b[39m\u001b[39minfo\u001b[39m\u001b[39m'\u001b[39m][\u001b[39m'\u001b[39m\u001b[39mtissue\u001b[39m\u001b[39m'\u001b[39m])\n\u001b[0;32m      <a href='vscode-notebook-cell:/c%3A/Users/santapaw/Documents/vut/dp/project/try.ipynb#X12sZmlsZQ%3D%3D?line=2'>3</a>\u001b[0m \u001b[39mprint\u001b[39m(load_data()[\u001b[39m'\u001b[39m\u001b[39mtissue\u001b[39m\u001b[39m'\u001b[39m][\u001b[39m0\u001b[39m])\n",
      "\u001b[1;31mKeyError\u001b[0m: 'info'"
     ]
    }
   ],
   "source": [
    "print(load_data()['info']['acq'][\"Ts\"])\n",
    "print(load_data()['info']['tissue'])\n",
    "print(load_data()['tissue'][0])"
   ]
  },
  {
   "cell_type": "code",
   "execution_count": 244,
   "id": "54e22bff",
   "metadata": {},
   "outputs": [],
   "source": [
    "def visualize_all():\n",
    "    data = load_data()\n",
    "    for k, v in data.items():\n",
    "        if k == \"exp17_roivelke_inp_tis_111007\":\n",
    "            v = v - np.mean(v[:25])\n",
    "            p = sns.lineplot(x=range(len(v)), y=v)\n",
    "            plt.figure()\n",
    "            plt.grid(False) \n",
    "            plt.title(k) \n",
    "            plt.xlabel(\"time\")\n",
    "            plt.ylabel(\"intesity\")\n",
    "        else: \n",
    "            v = preprocessing(v)\n",
    "            #p = sns.lineplot(x=range(len(v)), y=v)\n",
    "            p = plt.scatter(x=range(len(v)),y=v)\n",
    "            plt.figure()\n",
    "            plt.grid(False) \n",
    "            plt.title(k) \n",
    "            plt.xlabel(\"time\")\n",
    "            plt.ylabel(\"intesity\")       "
   ]
  },
  {
   "cell_type": "code",
   "execution_count": 53,
   "id": "c3ab5c01",
   "metadata": {},
   "outputs": [],
   "source": [
    "data = load_data()"
   ]
  },
  {
   "cell_type": "code",
   "execution_count": 56,
   "id": "33f67762",
   "metadata": {},
   "outputs": [
    {
     "ename": "IndexError",
     "evalue": "only integers, slices (`:`), ellipsis (`...`), numpy.newaxis (`None`) and integer or boolean arrays are valid indices",
     "output_type": "error",
     "traceback": [
      "\u001b[1;31m---------------------------------------------------------------------------\u001b[0m",
      "\u001b[1;31mIndexError\u001b[0m                                Traceback (most recent call last)",
      "\u001b[1;32mc:\\Users\\santapaw\\Documents\\vut\\dp\\project\\try.ipynb Cell 9\u001b[0m in \u001b[0;36m<cell line: 1>\u001b[1;34m()\u001b[0m\n\u001b[1;32m----> <a href='vscode-notebook-cell:/c%3A/Users/santapaw/Documents/vut/dp/project/try.ipynb#W5sZmlsZQ%3D%3D?line=0'>1</a>\u001b[0m data \u001b[39m=\u001b[39m data[\u001b[39m'\u001b[39;49m\u001b[39mexp13_aifnova_inp_tis_111017\u001b[39;49m\u001b[39m'\u001b[39;49m][\u001b[39m'\u001b[39m\u001b[39msignal\u001b[39m\u001b[39m'\u001b[39m]\n",
      "\u001b[1;31mIndexError\u001b[0m: only integers, slices (`:`), ellipsis (`...`), numpy.newaxis (`None`) and integer or boolean arrays are valid indices"
     ]
    }
   ],
   "source": [
    "data = data['exp13_aifnova_inp_tis_111017']['signal']"
   ]
  },
  {
   "cell_type": "code",
   "execution_count": 247,
   "id": "039c4a53",
   "metadata": {},
   "outputs": [],
   "source": [
    "def remove_negative_values(x):\n",
    "    max_s = max(x)/10\n",
    "    for i in range(len(x)):\n",
    "        if x[i] < 0 or x[i] < max_s:\n",
    "            x[i] = 0.1\n",
    "    return x\n",
    "\n",
    "def pos_min_max(x):\n",
    "    x = x.tolist()\n",
    "    max_ind = x.index(np.max(x))\n",
    "    min_ind = x.index(np.min(x)) \n",
    "    if min_ind < max_ind:\n",
    "        return min_ind, max_ind\n",
    "    \n",
    "def ma(x):\n",
    "    max_ = np.argmax(x)\n",
    "    min_ = np.argmin(x)\n",
    "    arr = np.where(x==min_)\n",
    "    #min_ = arr[0][len(arr[0])-1]\n",
    "    x = x.tolist()\n",
    "    max_ind = x.index(np.max(x))\n",
    "    min_ind = x.index(np.min(x))\n",
    "    return x[min_:max_], max_ind, min_ind"
   ]
  },
  {
   "cell_type": "code",
   "execution_count": 248,
   "id": "75a32c3a",
   "metadata": {},
   "outputs": [
    {
     "ename": "TypeError",
     "evalue": "'int' object is not callable",
     "output_type": "error",
     "traceback": [
      "\u001b[1;31m---------------------------------------------------------------------------\u001b[0m",
      "\u001b[1;31mTypeError\u001b[0m                                 Traceback (most recent call last)",
      "Cell \u001b[1;32mIn[248], line 9\u001b[0m\n\u001b[0;32m      6\u001b[0m x_n \u001b[39m=\u001b[39m x[:\u001b[39m20\u001b[39m]\n\u001b[0;32m      8\u001b[0m b \u001b[39m=\u001b[39m scipy\u001b[39m.\u001b[39msignal\u001b[39m.\u001b[39mresample(x_n, \u001b[39mlen\u001b[39m(x_n) \u001b[39m*\u001b[39m \u001b[39m2\u001b[39m)\n\u001b[1;32m----> 9\u001b[0m s \u001b[39m=\u001b[39m remove_negative_values(np\u001b[39m.\u001b[39;49mappend(b,x_n[\u001b[39m20\u001b[39;49m:]))\n\u001b[0;32m     11\u001b[0m \u001b[39mprint\u001b[39m(s)\n\u001b[0;32m     12\u001b[0m signal, \u001b[39mmax\u001b[39m, \u001b[39mmin\u001b[39m \u001b[39m=\u001b[39m ma(s)\n",
      "Cell \u001b[1;32mIn[247], line 2\u001b[0m, in \u001b[0;36mremove_negative_values\u001b[1;34m(x)\u001b[0m\n\u001b[0;32m      1\u001b[0m \u001b[39mdef\u001b[39;00m \u001b[39mremove_negative_values\u001b[39m(x):\n\u001b[1;32m----> 2\u001b[0m     max_s \u001b[39m=\u001b[39m \u001b[39mmax\u001b[39;49m(x)\u001b[39m/\u001b[39m\u001b[39m10\u001b[39m\n\u001b[0;32m      3\u001b[0m     \u001b[39mfor\u001b[39;00m i \u001b[39min\u001b[39;00m \u001b[39mrange\u001b[39m(\u001b[39mlen\u001b[39m(x)):\n\u001b[0;32m      4\u001b[0m         \u001b[39mif\u001b[39;00m x[i] \u001b[39m<\u001b[39m \u001b[39m0\u001b[39m \u001b[39mor\u001b[39;00m x[i] \u001b[39m<\u001b[39m max_s:\n",
      "\u001b[1;31mTypeError\u001b[0m: 'int' object is not callable"
     ]
    }
   ],
   "source": [
    "import paramnormal\n",
    "\n",
    "data = load_data()\n",
    "x = preprocessing(data['exp13_aifnova_inp_tis_111017'])\n",
    "\n",
    "x_n = x[:20]\n",
    "\n",
    "b = scipy.signal.resample(x_n, len(x_n) * 2)\n",
    "s = remove_negative_values(np.append(b,x_n[20:]))\n",
    "\n",
    "print(s)\n",
    "signal, max, min = ma(s)\n",
    "#print(min)\n",
    "\n",
    "s_2 = []\n",
    "signal, max, min = ma(s)\n",
    "s2 = scipy.signal.resample(s[min:max], len(s[min:max]) * 2)\n",
    "[s_2.append(i) for i in [s[:min], s_2, s[max:]]]\n",
    "\n",
    "b_2 = scipy.signal.resample(s, len(s) * 2)\n",
    "x = np.linspace(np.min(s_2),np.max(s_2))\n",
    "\n",
    "params = paramnormal.lognormal.fit(s)\n",
    "dist = paramnormal.lognormal.from_params(params)\n",
    "plt.figure()\n",
    "plt.plot(x, dist.pdf(x), color='black')\n",
    "plt.scatter(x, dist.pdf(x), color='blue', marker=\"*\")\n",
    "plt.xlabel('time [s]')\n",
    "plt.ylabel('Backscatter intensity')\n",
    "plt.title('Log Normal Model')\n",
    "plt.show()"
   ]
  },
  {
   "cell_type": "code",
   "execution_count": null,
   "id": "01cd4242",
   "metadata": {},
   "outputs": [],
   "source": []
  }
 ],
 "metadata": {
  "kernelspec": {
   "display_name": "Python 3",
   "language": "python",
   "name": "python3"
  },
  "language_info": {
   "codemirror_mode": {
    "name": "ipython",
    "version": 3
   },
   "file_extension": ".py",
   "mimetype": "text/x-python",
   "name": "python",
   "nbconvert_exporter": "python",
   "pygments_lexer": "ipython3",
   "version": "3.10.4 (tags/v3.10.4:9d38120, Mar 23 2022, 23:13:41) [MSC v.1929 64 bit (AMD64)]"
  },
  "vscode": {
   "interpreter": {
    "hash": "aa8af5b86c896737601c1484ece86df9191ac750b693457402c89b9df4723f2f"
   }
  }
 },
 "nbformat": 4,
 "nbformat_minor": 5
}
